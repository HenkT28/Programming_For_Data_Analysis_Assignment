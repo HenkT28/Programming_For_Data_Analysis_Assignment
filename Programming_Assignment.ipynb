{
 "cells": [
  {
   "cell_type": "markdown",
   "metadata": {},
   "source": [
    "# This Jupyter Notebook contains the instructions for Programming for Data Analysis Assignment 2019\n",
    "\n",
    "GMIT H.Dip Data Analytics - Academic Year 2019 - 2020\n",
    "\n",
    "#### See README for more background info.\n",
    "\n",
    "##### Student: Henk Tjalsma\n",
    "\n",
    "\n",
    "##### GMIT email address: \n",
    "\n",
    "<G00376321@gmit.ie>"
   ]
  },
  {
   "cell_type": "markdown",
   "metadata": {},
   "source": [
    "## Problem statement\n",
    "\n",
    "The following assignment concerns the numpy.random package in Python. [2]\n",
    "\n",
    "For this I created a Jupyter [5] notebook explaining the use of the package, including detailed explanations of at least five of the distributions provided for in the package.\n",
    "\n",
    "\n",
    "##### There are four distinct tasks I'm carrying out in this Jupyter notebook:\n",
    "\n",
    "1. Explain the overall purpose of the package.\n",
    "\n",
    "2. Explain the use of the “Simple random data” and “Permutations” functions.\n",
    "\n",
    "3. Explain the use and purpose of at least five “Distributions” functions.\n",
    "\n",
    "4. Explain the use of seeds in generating pseudorandom numbers.\n",
    "\n",
    "\n",
    "![Numpy](Numpy.png)"
   ]
  },
  {
   "cell_type": "markdown",
   "metadata": {},
   "source": [
    "## Numpy Package\n",
    "\n",
    "*First I will explain what Numpy package contains before talking about the random module in the Numpy package.*\n",
    "\n",
    "NumPy is an acronym for Numerical Python. NumPy is the fundamental package for scientific computing in Python. It is a Python library that provides a multidimensional array object, various derived objects (such as masked arrays and matrices), and an assortment of routines for fast operations on arrays, including mathematical, logical, shape manipulation, sorting, selecting, I/O, discrete Fourier transforms, basic linear algebra, basic statistical operations, random simulation and much more. [11]\n",
    "\n",
    "At the core of the NumPy package, is the ndarray object. This encapsulates n-dimensional arrays of homogeneous data types, with many operations being performed in compiled code for performance.\n",
    "\n",
    "Arrays are similar to lists in Python, except that every element  of  an  array  must  be  of  the  same  type,  typically  a  numeric  type  like float or int.  Arrays make operations with large amounts of numeric data very fast and are generally much more efficient than lists. [14]\n",
    "\n",
    "Lists are a part of core Python. Lists have a variety of uses. They are useful, for example, in various bookkeeping tasks that arise in computer programming. Like arrays, they are sometimes used to store data. However, lists do not have the specialized properties and tools that make arrays so powerful for scientific computing. So in general, we prefer arrays to lists for working with scientific data. For other tasks, lists work just fine and can even be preferable to arrays. [54]\n",
    "\n",
    "Please note, arrays are a part of the numerical computing package NumPy. Therefore, you have access to NumPy arrays only if you load the NumPy package using the import command.\n",
    "\n",
    "\n",
    "##### There are several important differences between NumPy arrays and the standard Python sequences (most common ones are lists and tuples):\n",
    "\n",
    "\n",
    "* NumPy arrays have a fixed size at creation, unlike Python lists (which can grow dynamically). Changing the size of an ndarray will create a new array and delete the original.\n",
    "* The elements in a NumPy array are all required to be of the same data type, and thus will be the same size in memory. The exception: one can have arrays of (Python, including NumPy) objects, thereby allowing for arrays of different sized elements.\n",
    "* NumPy arrays facilitate advanced mathematical and other types of operations on large numbers of data. Typically, such operations are executed more efficiently and with less code than is possible using Python’s built-in sequences.\n",
    "* A growing plethora of scientific and mathematical Python-based packages are using NumPy arrays; though these typically support Python-sequence input, they convert such input to NumPy arrays prior to processing, and they often output NumPy arrays. In other words, in order to efficiently use much (perhaps even most) of today’s scientific/mathematical Python-based software, just knowing how to use Python’s built-in sequence types is insufficient - one also needs to know how to use NumPy arrays.\n",
    "\n",
    "\n",
    "<div class=\"alert alert-block alert-info\">\n",
    "<b>Note:</b> Sequence size and speed are particularly important in scientific computing. \n",
    "</div>\n",
    "\n",
    "\n",
    "##### Why is NumPy Fast?\n",
    "\n",
    "\n",
    "Two of NumPy’s features which are the basis of much of its power: vectorization and broadcasting:\n",
    "\n",
    "- Vectorization describes the absence of any explicit looping, indexing, etc., in the code - these things are taking place, of course, just “behind the scenes” in optimized, pre-compiled C code. Vectorized code has many advantages, among which are:\n",
    "\n",
    "    - Vectorized code is more concise and easier to read.\n",
    "    - Fewer lines of code generally means fewer bugs.\n",
    "    - The code more closely resembles standard mathematical notation (making it easier, typically, to correctly code mathematical constructs).\n",
    "    - Vectorization results in more “Pythonic” code. Without vectorization, our code would be littered with inefficient and difficult to read for loops.\n",
    "\n",
    "- Broadcasting is the term used to describe the implicit element-by-element behavior of operations; generally speaking, in NumPy all operations, not just arithmetic operations, but logical, bit-wise, functional, etc., behave in this implicit element-by-element fashion, i.e., they broadcast.\n",
    "\n",
    "\n",
    "So NumPy’s main object is a homogeneous multidimensional array. Unlike python’s array class which only handles one-dimensional array, NumPy’s ndarray class can handle multidimensional array and provides more functionality. [6]\n",
    "\n",
    "\n",
    "NumPy’s dimensions are known as axes, see below [18]:\n",
    "\n",
    "\n",
    "![Axes_Displayed](Visual_Description.png)"
   ]
  },
  {
   "cell_type": "markdown",
   "metadata": {},
   "source": [
    "## 1. Purpose of numpy.random package in Python\n",
    "\n",
    "The use of randomness is an important part of the configuration and evaluation of machine learning algorithms. [19]. \n",
    "\n",
    "But also an important part of any computer code simulation is the ability to draw random numbers. [14] \n",
    "\n",
    "For this purpose, NumPy provides various routines in the submodule random. It uses a particular algorithm, called the Mersenne Twister, to generate pseudorandom numbers. [42]\n",
    "\n",
    "\n",
    "- Numpy’s random number routines produce pseudo random numbers using combinations of a BitGenerator to create sequences and a Generator to use those sequences to sample from different statistical distributions [23]:\n",
    "\n",
    "    - BitGenerators: Objects that generate random numbers. These are typically unsigned integer words filled with sequences of either 32 or 64 random bits.\n",
    "    - Generators: Objects that transform sequences of random bits from a BitGenerator into sequences of numbers that follow a specific probability distribution (such as Uniform, Normal or Binomial) within a specified interval.\n",
    "\n",
    "\n",
    "Distributions plays a very crucial role in data science and analytics. Statistical distributions shows us the underlying relationship between the data points. The main purpose of checking distributions is to get an idea on how the data points of the target are spread across, so that appropriate model could be used to fit. [26] \n",
    "\n",
    "For non data-science folks, by target we are referring the variable upon which we are interested to do some prediction or estimation.\n",
    "\n",
    "PRNG is the acronym for pseudorandom number generator. \n",
    "\n",
    "\n",
    "**So using the Python random module, we can generate scalar random numbers and data.** [16]\n",
    "\n",
    "* Whenever you want to generate an array of random numbers you need to use numpy.random.\n",
    "* Numpy has the numpy.random package which has multiple functions to generate the random n-dimensional array for various distributions.\n",
    "\n",
    "\n",
    "#### The module is composed of the following categories. It consists of functions that:\n",
    "\n",
    "##### A. Create random arrays (Simple random data: rand, randn, randint, and so on).\n",
    "\n",
    "##### B. Create random permutations of arrays. There are only 2 Permutations functions: shuffle, and permutation.\n",
    "\n",
    "##### C. Generate arrays with specific probability distributions. Examples Distributions: geometric, logistic, normal, and so on.\n",
    "\n",
    "\n",
    "For more background info on Random sampling (numpy.random), please check out below website:\n",
    "\n",
    "[Random sampling (numpy.random)](https://docs.scipy.org/doc/numpy-1.15.0/reference/routines.random.html)"
   ]
  },
  {
   "cell_type": "code",
   "execution_count": 1,
   "metadata": {},
   "outputs": [],
   "source": [
    "# Importing libraries into Jupyter\n",
    "import numpy as np\n",
    "import pandas as pd\n",
    "import matplotlib.pyplot as plt\n",
    "\n",
    "# Making sure matplotlib plays nicely with jupyter notebook, with this magic command here\n",
    "%matplotlib inline \n",
    "\n",
    "import scipy.stats as ss\n",
    "from scipy.stats import poisson\n",
    "import seaborn as sns\n",
    "import scipy.special as sps\n",
    "\n",
    "# Suppresses repeated warnings\n",
    "import warnings\n",
    "warnings.filterwarnings(\"ignore\")"
   ]
  },
  {
   "cell_type": "markdown",
   "metadata": {},
   "source": [
    "## 2. The use of the “Simple random data” and “Permutations” functions.\n",
    "\n",
    "So in this section I will discuss and show you examples Simple Random Data, and Permutations, while in the next task, section 3, I will provide examples of some distributions.\n",
    "\n",
    "- Simple Random Data - functions for generating simple random data from the given population or range (create random arrays):\n",
    "\n",
    "Examples: rand, randn, randint, random_sample, sample, and so on.\n",
    "\n",
    "A simple random sample for example, is a set of n objects in a population of N objects where all possible samples are equally likely to happen.\n",
    "\n",
    "- Permutations - create random permutations of arrays. There are only 2 functions, shuffle, and permutation:\n",
    "\n",
    "    - shuffle(x) - randomly permute a sequence in-place. [25]\n",
    "\n",
    "    - permutation(x) - return a random permutation of a sequence, or return a permuted range.\n",
    "\n",
    "The shuffle() function in Python random module can be used to shuffle a list. [41]\n",
    "\n",
    "The shuffle is performed in place, meaning that the list provided as an argument to the shuffle() function is shuffled rather than a shuffled copy of the list being made and returned.\n",
    "\n",
    "\n",
    "##### What is the difference between numpy.random.shuffle(x) and numpy.random.permutation(x)? \n",
    "\n",
    "To be more precise suppose you have an array [43]:\n",
    "\n",
    "x=[1,4,2,8,16]\n",
    "\n",
    "\n",
    "You want to generate random permutations of x, then what is the difference between shuffle(x) and permutation(x)?\n",
    "\n",
    "- As such, np.random.permutation differs in two ways from np.random.shuffle:\n",
    "\n",
    "    - If passed an array, it will return a shuffled copy of the array; np.random.shuffle shuffles the array in-place.\n",
    "    - If passed an integer, it will return a shuffled range i.e. np.random.shuffle(np.arange(n)).\n",
    "\n",
    "\n",
    "So if x is an integer, randomly permute np.arange(x). If x is an array, make a copy and shuffle the elements randomly."
   ]
  },
  {
   "cell_type": "markdown",
   "metadata": {},
   "source": [
    "### 2.1. Below are some code examples for Simple Random Data."
   ]
  },
  {
   "cell_type": "markdown",
   "metadata": {},
   "source": [
    "#### numpy.random.rand() in Python\n",
    "\n",
    "- numpy.random.rand(d0, d1, …, dn) : creates an array of specified shape and fills it with random values. [60]\n",
    "    - Parameters:\n",
    "        - d0, d1, ..., dn : [int, optional]\n",
    "        - Dimension of the returned array we require, if no argument is given a single Python float is returned.\n",
    "    - Return:\n",
    "        - Array of defined shape, filled with random values.\n",
    "        \n",
    "In below I'm showing examples 1D and 2D arrays.\n",
    "\n",
    "1D array or single dimensional array stores a list of variables of the same data type. It is possible to access each variable using the index. [61]\n",
    "\n",
    "\n",
    "![1D](1D.png)\n",
    "\n",
    "\n",
    "2D array or multi-dimensional array stores data in a format consisting of rows and columns.\n",
    "\n",
    "The main difference between 1D and 2D array is that the 1D array represents multiple data items as a list while 2D array represents multiple data items as a table consisting of rows and columns.   "
   ]
  },
  {
   "cell_type": "code",
   "execution_count": 2,
   "metadata": {},
   "outputs": [
    {
     "name": "stdout",
     "output_type": "stream",
     "text": [
      "1D Array filled with random values: \n",
      " [0.28843405 0.55993941 0.41288793 0.00101912 0.9019324 ]\n"
     ]
    }
   ],
   "source": [
    "# 1D Array \n",
    "array_rand_1D = np.random.rand(5) \n",
    "print(\"1D Array filled with random values: \\n\", array_rand_1D); "
   ]
  },
  {
   "cell_type": "code",
   "execution_count": 3,
   "metadata": {},
   "outputs": [
    {
     "name": "stdout",
     "output_type": "stream",
     "text": [
      "\n",
      "\n",
      "2D Array filled with random values: \n",
      " [[0.39955056 0.20141736 0.87599656 0.22202127]\n",
      " [0.37585373 0.34619974 0.05803942 0.4632617 ]\n",
      " [0.24997683 0.74904211 0.09391907 0.5900095 ]]\n"
     ]
    }
   ],
   "source": [
    "# 2D Array    \n",
    "array_rand_2D = np.random.rand(3, 4) \n",
    "print(\"\\n\\n2D Array filled with random values: \\n\", array_rand_2D); "
   ]
  },
  {
   "cell_type": "code",
   "execution_count": 4,
   "metadata": {},
   "outputs": [
    {
     "data": {
      "image/png": "[encoded data removed]",
      "text/plain": [
       "<Figure size 432x288 with 1 Axes>"
      ]
     },
     "metadata": {
      "needs_background": "light"
     },
     "output_type": "display_data"
    }
   ],
   "source": [
    "# Histogram example rand array\n",
    "# Create an array of the given shape and populate it with random samples from a uniform distribution over [0, 1).\n",
    "\n",
    "hist_rand = np.random.rand(10000)\n",
    "plt.hist(hist_rand, align='left', color='b', edgecolor='red', linewidth=1, bins=20)\n",
    "plt.xlabel('Distribution', fontweight = 'bold')\n",
    "plt.title('Random samples from a uniform distribution', fontweight = 'bold')\n",
    "plt.grid(True)\n",
    "plt.show()"
   ]
  },
  {
   "cell_type": "markdown",
   "metadata": {},
   "source": [
    "#### numpy.random.randn() in Python\n",
    "\n",
    "- numpy.random.randn(d0, d1, …, dn) : creates an array of specified shape and fills it with random values as per standard normal distribution.\n",
    "    - Parameters: \n",
    "        - d0, d1, ..., dn : [int, optional] \n",
    "        - Dimension of the returned array we require, if no argument is given a single Python float is returned.\n",
    "    - Return:\n",
    "        - Array of defined shape, filled with random floating-point samples from the standard normal distribution.\n",
    "        \n",
    "If positive arguments are provided, randn generates an array of shape (d0, d1, …, dn), filled with random floats sampled from a univariate “normal” (Gaussian) distribution of mean 0 and variance 1 (if any of the d_i are floats, they are first converted to integers by truncation). A single float randomly sampled from the distribution is returned if no argument is provided. [62]"
   ]
  },
  {
   "cell_type": "code",
   "execution_count": 5,
   "metadata": {},
   "outputs": [
    {
     "name": "stdout",
     "output_type": "stream",
     "text": [
      "1D Array filled with random values: \n",
      " [ 0.06451088  0.42935257 -1.71559868  0.72507623 -0.98631489]\n"
     ]
    }
   ],
   "source": [
    "# 1D Array \n",
    "array_randn_1D = np.random.randn(5) \n",
    "print(\"1D Array filled with random values: \\n\", array_randn_1D); "
   ]
  },
  {
   "cell_type": "code",
   "execution_count": 6,
   "metadata": {},
   "outputs": [
    {
     "name": "stdout",
     "output_type": "stream",
     "text": [
      "2D Array filled with random values: \n",
      " [[ 0.16484484  1.4167413  -0.21532287 -0.47776803]\n",
      " [-0.19106741 -0.38462122  0.73265734 -0.96210736]\n",
      " [-0.30244739 -0.78506711 -0.08616944  0.48724298]]\n"
     ]
    }
   ],
   "source": [
    "# 2D Array    \n",
    "array_randn_2D = np.random.randn(3, 4) \n",
    "print(\"2D Array filled with random values: \\n\", array_randn_2D); "
   ]
  },
  {
   "cell_type": "code",
   "execution_count": 7,
   "metadata": {},
   "outputs": [
    {
     "data": {
      "image/png": "[encoded data removed]",
      "text/plain": [
       "<Figure size 432x288 with 1 Axes>"
      ]
     },
     "metadata": {
      "needs_background": "light"
     },
     "output_type": "display_data"
    }
   ],
   "source": [
    "# Histograms of randn function\n",
    "hist_randn = np.random.randn(1000)\n",
    "plt.hist(hist_randn, align='left', color='r', edgecolor='red', linewidth=1, bins=20)\n",
    "plt.xlabel('Distribution', fontweight = 'bold')\n",
    "plt.title('Random samples from a standard normal distribution', fontweight = 'bold')\n",
    "plt.grid(True)\n",
    "plt.show()"
   ]
  },
  {
   "cell_type": "markdown",
   "metadata": {},
   "source": [
    "#### Random sampling in numpy | randint() function [low, high)\n",
    "\n",
    "- numpy.random.randint() is one of the function for doing random sampling in numpy. It returns an array of specified shape and fills it with random integers from low (inclusive) to high (exclusive), i.e. in the interval. [63]\n",
    "    - Parameters:\n",
    "        - low: [int] Lowest (signed) integer to be drawn from the distribution. But, it works as a highest integer in the sample if high=None.\n",
    "        - high: [int, optional] Largest (signed) integer to be drawn from the distribution.\n",
    "        - size: [int or tuple of ints, optional] Output shape. If the given shape is, e.g., (m, n, k), then m * n * k samples are drawn. Default is None, in which case a single value is returned.\n",
    "        - dtype: [optional] Desired output data-type.\n",
    "    - Return: \n",
    "        - Array of random integers in the interval, or a single such random int if size not provided."
   ]
  },
  {
   "cell_type": "code",
   "execution_count": 8,
   "metadata": {},
   "outputs": [
    {
     "data": {
      "text/plain": [
       "array([3, 4, 4, 1, 3, 0, 4, 1, 0, 3, 2, 1, 0, 3, 3])"
      ]
     },
     "execution_count": 8,
     "metadata": {},
     "output_type": "execute_result"
    }
   ],
   "source": [
    "# Example Simple Random Data (randint)\n",
    "\n",
    "# Returns random integers from the “discrete uniform” distribution of specified dtype in the “half-open” interval [low, high). \n",
    "# If high is None (the default), then results are from [0, low) - not including 5 in this example:\n",
    "\n",
    "np.random.randint(5, size=15)"
   ]
  },
  {
   "cell_type": "code",
   "execution_count": 9,
   "metadata": {},
   "outputs": [
    {
     "data": {
      "text/plain": [
       "array([[1, 2, 4, 4, 0],\n",
       "       [2, 3, 0, 4, 2]])"
      ]
     },
     "execution_count": 9,
     "metadata": {},
     "output_type": "execute_result"
    }
   ],
   "source": [
    "# Generate a 2 x 5 array of integers between 0 and 5 inclusive:\n",
    "\n",
    "np.random.randint(6, size=(2, 5))"
   ]
  },
  {
   "cell_type": "code",
   "execution_count": 10,
   "metadata": {},
   "outputs": [
    {
     "name": "stdout",
     "output_type": "stream",
     "text": [
      "Output 1D Array filled with random integers:  [1 0 2 0 1]\n"
     ]
    }
   ],
   "source": [
    "# Output array randint\n",
    "output_randint = np.random.randint(low = 0, high = 3, size = 5) \n",
    "print (\"Output 1D Array filled with random integers: \", output_randint)  "
   ]
  },
  {
   "cell_type": "code",
   "execution_count": 11,
   "metadata": {},
   "outputs": [
    {
     "data": {
      "image/png": "[encoded data removed]",
      "text/plain": [
       "<Figure size 432x288 with 1 Axes>"
      ]
     },
     "metadata": {
      "needs_background": "light"
     },
     "output_type": "display_data"
    }
   ],
   "source": [
    "# Histograms of randint function - for example spread of different age groups teenagers 13 - 19\n",
    "hist_randint = np.random.randint(low = 13, high = 19, size = 1000)\n",
    "plt.hist(hist_randint, align='left', color='b', edgecolor='red', linewidth=1, bins=20)\n",
    "plt.xlabel('Distribution', fontweight = 'bold')\n",
    "plt.title('Random samples from a discrete uniform distribution', fontweight = 'bold')\n",
    "plt.grid(True)\n",
    "plt.show()"
   ]
  },
  {
   "cell_type": "markdown",
   "metadata": {},
   "source": [
    "#### Random sampling in numpy | random_integers() function [low, high)\n",
    "\n",
    "- numpy.random.random_integers() is one of the function for doing random sampling in numpy. It returns an array of specified shape and fills it with random integers from low (inclusive) to high (exclusive), i.e. in the interval. [64]\n",
    "    - Parameters:\n",
    "        - low: [int] Lowest (signed) integer to be drawn from the distribution. But, it works as a highest integer in the sample if high=None.\n",
    "        - high: [int, optional] Largest (signed) integer to be drawn from the distribution.\n",
    "        - size: [int or tuple of ints, optional] Output shape. If the given shape is, e.g., (m, n, k), then m * n * k samples are drawn. Default is None, in which case a single value is returned.\n",
    "    - Return: \n",
    "        - Array of random integers in the interval, or a single such random int if size not provided.    "
   ]
  },
  {
   "cell_type": "code",
   "execution_count": 12,
   "metadata": {},
   "outputs": [
    {
     "name": "stdout",
     "output_type": "stream",
     "text": [
      "Output 1D Array filled with random integers:  [10 13 17 16 10 15 16 10 12 10 11 20 18 18 20 18 15 19 17 10]\n"
     ]
    }
   ],
   "source": [
    "# Output array random_integers\n",
    "output_random_integers = np.random.random_integers(low = 10, high = 20, size = 20) \n",
    "print (\"Output 1D Array filled with random integers: \", output_random_integers)  "
   ]
  },
  {
   "cell_type": "code",
   "execution_count": 13,
   "metadata": {},
   "outputs": [
    {
     "data": {
      "image/png": "[encoded data removed]",
      "text/plain": [
       "<Figure size 432x288 with 1 Axes>"
      ]
     },
     "metadata": {
      "needs_background": "light"
     },
     "output_type": "display_data"
    }
   ],
   "source": [
    "# Roll two six sided dice 500 times and sum the results, and show plot [65]\n",
    "\n",
    "d1 = np.random.random_integers(1, 6, 500)\n",
    "d2 = np.random.random_integers(1, 6, 500)\n",
    "dsums = d1 + d2\n",
    "\n",
    "# Histogram\n",
    "\n",
    "count, bins, ignored = plt.hist(dsums, 11, density=True)\n",
    "plt.grid(True)\n",
    "plt.show()"
   ]
  },
  {
   "cell_type": "markdown",
   "metadata": {},
   "source": [
    "#### Random sampling in numpy | random_sample() function [0.0, 1.0)\n",
    "\n",
    "- numpy.random.random_sample() is one of the function for doing random sampling in numpy. It returns an array of specified shape and fills it with random floats in the half-open interval. [66]\n",
    "    - Syntax: numpy.random.random_sample(size=None)\n",
    "    - Parameters:\n",
    "        - size : [int or tuple of ints, optional] Output shape. If the given shape is, e.g., (m, n, k), then m * n * k samples are drawn. Default is None, in which case a single value is returned.\n",
    "    - Return: \n",
    "        - Array of random floats in the interval, or a single such random float if size not provided. "
   ]
  },
  {
   "cell_type": "code",
   "execution_count": 14,
   "metadata": {},
   "outputs": [
    {
     "name": "stdout",
     "output_type": "stream",
     "text": [
      "Output random float value:  0.6958269128909198\n"
     ]
    }
   ],
   "source": [
    "# Output random value random_sample\n",
    "output_random_sample = np.random.random_sample() \n",
    "print (\"Output random float value: \", output_random_sample)"
   ]
  },
  {
   "cell_type": "markdown",
   "metadata": {},
   "source": [
    "#### numpy.random.random  [0.0, 1.0)\n",
    "\n",
    "- Return random floats in the half-open interval. [67]\n",
    "\n",
    "- Results are from the “continuous uniform” distribution over the stated interval. To sample Unif[a, b), b > a multiply the output of random_sample by (b-a) and add a: (b - a) * random_sample() + a\n",
    "\n",
    "    - Parameters:\t\n",
    "        - size: int or tuple of ints, optional\n",
    "            - Output shape. If the given shape is, e.g., (m, n, k), then m * n * k samples are drawn. Default is None, in which case a single value is returned.\n",
    "\n",
    "    - Returns:\t\n",
    "        - out : float or ndarray of floats\n",
    "            - Array of random floats of shape size (unless size=None, in which case a single float is returned)."
   ]
  },
  {
   "cell_type": "code",
   "execution_count": 15,
   "metadata": {},
   "outputs": [
    {
     "data": {
      "text/plain": [
       "array([[-0.92173676, -2.59231254, -2.24108196],\n",
       "       [-3.44398548, -0.88014889, -4.56106896],\n",
       "       [-4.86775362, -3.76704496, -4.90249307],\n",
       "       [-1.20548179, -1.38103332, -0.83074312]])"
      ]
     },
     "execution_count": 15,
     "metadata": {},
     "output_type": "execute_result"
    }
   ],
   "source": [
    "# Four-by-three array of random numbers from [-5, 0)\n",
    "5 * np.random.random_sample((4, 3)) - 5"
   ]
  },
  {
   "cell_type": "markdown",
   "metadata": {},
   "source": [
    "#### Random sampling in numpy | ranf() function  [0.0, 1.0)\n",
    "\n",
    "- numpy.random.ranf() is one of the function for doing random sampling in numpy. It returns an array of specified shape and fills it with random floats in the half-open interval. [68]\n",
    "    - Syntax: numpy.random.ranf(size=None)\n",
    "    - Parameters:\n",
    "        - size : [int or tuple of ints, optional] Output shape. If the given shape is, e.g., (m, n, k), then m * n * k samples are drawn. Default is None, in which case a single value is returned.\n",
    "    - Return : Array of random floats in the interval, or a single such random float if size not provided.          "
   ]
  },
  {
   "cell_type": "code",
   "execution_count": 16,
   "metadata": {},
   "outputs": [
    {
     "name": "stdout",
     "output_type": "stream",
     "text": [
      "Output 2D Array filled with random floats:  [[0.67246426]\n",
      " [0.94052018]]\n"
     ]
    }
   ],
   "source": [
    "# Output array ranf\n",
    "output_ranf = np.random.ranf(size =(2, 1)) \n",
    "print (\"Output 2D Array filled with random floats: \", output_ranf)  "
   ]
  },
  {
   "cell_type": "markdown",
   "metadata": {},
   "source": [
    "#### numpy.random.sample  [0.0, 1.0)\n",
    "\n",
    "- numpy.random.sample(size=None) [69]\n",
    "- Return random floats in the half-open interval.\n",
    "- Results are from the “continuous uniform” distribution over the stated interval. To sample Unif[a, b), b > a multiply the output of random_sample by (b-a) and add a: (b - a) * random_sample() + a\n",
    "    - Parameters:\n",
    "        - size : int or tuple of ints, optional\n",
    "            - Output shape. If the given shape is, e.g., (m, n, k), then m * n * k samples are drawn. Default is None, in which case a single value is returned.\n",
    "    - Returns:\t\n",
    "        - out : float or ndarray of floats\n",
    "            - Array of random floats of shape size (unless size=None, in which case a single float is returned)."
   ]
  },
  {
   "cell_type": "code",
   "execution_count": 17,
   "metadata": {},
   "outputs": [
    {
     "data": {
      "image/png": "[encoded data removed]",
      "text/plain": [
       "<Figure size 432x288 with 1 Axes>"
      ]
     },
     "metadata": {
      "needs_background": "light"
     },
     "output_type": "display_data"
    }
   ],
   "source": [
    "# Histograms of random_sample function\n",
    "hist_random_sample = np.random.random_sample((1000,))\n",
    "plt.hist(hist_random_sample, align='left', color='b', edgecolor='red', linewidth=1, bins=20)\n",
    "plt.xlabel('Distribution', fontweight = 'bold')\n",
    "plt.title('Random samples from a continuous uniform distribution', fontweight = 'bold')\n",
    "plt.grid(True)\n",
    "plt.show()"
   ]
  },
  {
   "cell_type": "markdown",
   "metadata": {},
   "source": [
    "#### Python random.choice() function\n",
    "\n",
    "- Python random module‘s random.choice() function returns a random element from the non-empty sequence. we can use the choice() function for selecting a random password from word-list, Selecting a random item from the available data. [70]\n",
    "\n",
    "- numpy.random.choice(a, size=None, replace=True, p=None)\n",
    "\n",
    "- Generates a random sample from a given 1-D array\n",
    "\n",
    "        New in version 1.7.0.\n",
    "\n",
    "    - Parameters:\t\n",
    "        - a : 1-D array-like or int\n",
    "            - If an ndarray, a random sample is generated from its elements. If an int, the random sample is generated as if a were np.arange(a)\n",
    "        - size : int or tuple of ints, optional\n",
    "            - Output shape. If the given shape is, e.g., (m, n, k), then m * n * k samples are drawn. Default is None, in which case a single value is returned.\n",
    "        - replace : boolean, optional\n",
    "            - Whether the sample is with or without replacement.\n",
    "        - p : 1-D array-like, optional\n",
    "            - The probabilities associated with each entry in a. If not given the sample assumes a uniform distribution over all entries in a.\n",
    "    - Returns:\t\n",
    "        - samples : single item or ndarray\n",
    "            - The generated random samples.\n",
    "    - Raises:\t\n",
    "        - ValueError\n",
    "            - If a is an int and less than zero, if a or p are not 1-dimensional, if a is an array-like of size 0, if p is not a vector of probabilities, if a and p have different lengths, or if replace=False and the sample size is greater than the population size."
   ]
  },
  {
   "cell_type": "code",
   "execution_count": 18,
   "metadata": {},
   "outputs": [
    {
     "data": {
      "text/plain": [
       "array(['Christopher', 'rabbit', 'eeyore', 'kanga', 'kanga', 'Christopher',\n",
       "       'roo', 'lumpy', 'kanga', 'Christopher', 'pooh', 'pooh',\n",
       "       'Christopher', 'eeyore', 'pooh', 'pooh', 'Christopher', 'roo',\n",
       "       'Christopher', 'eeyore', 'eeyore', 'pooh', 'pooh', 'pooh',\n",
       "       'piglet', 'roo', 'piglet', 'lumpy', 'Christopher', 'Christopher',\n",
       "       'lumpy', 'roo', 'pooh', 'pooh', 'roo', 'roo', 'rabbit', 'roo',\n",
       "       'rabbit', 'kanga', 'piglet', 'roo', 'eeyore', 'Christopher',\n",
       "       'Christopher', 'rabbit', 'rabbit', 'Christopher', 'Christopher',\n",
       "       'piglet', 'roo', 'pooh', 'pooh', 'kanga', 'Christopher', 'kanga',\n",
       "       'Christopher', 'piglet', 'piglet', 'Christopher', 'Christopher',\n",
       "       'rabbit', 'piglet', 'roo', 'roo', 'kanga', 'pooh', 'roo', 'pooh',\n",
       "       'pooh', 'lumpy', 'kanga', 'roo', 'kanga', 'pooh', 'eeyore',\n",
       "       'Christopher', 'lumpy', 'lumpy', 'Christopher', 'pooh', 'piglet',\n",
       "       'pooh', 'roo', 'Christopher', 'lumpy', 'lumpy', 'Christopher',\n",
       "       'Christopher', 'Christopher', 'lumpy', 'rabbit', 'eeyore',\n",
       "       'Christopher', 'pooh', 'lumpy', 'kanga', 'roo', 'rabbit', 'roo'],\n",
       "      dtype='<U11')"
      ]
     },
     "execution_count": 18,
     "metadata": {},
     "output_type": "execute_result"
    }
   ],
   "source": [
    "# Random choice example\n",
    "aa_milne_arr = ['pooh', 'rabbit', 'piglet', 'roo', 'lumpy', 'kanga', 'eeyore', 'Christopher']\n",
    "WP= np.random.choice(aa_milne_arr, 100, p=[0.2, 0.1, 0.1, 0.1, 0.1, 0.1, 0.1, 0.2], replace=True)\n",
    "\n",
    "# WP = np.random.choice([0, 1, 2, 3, 4, 5, 6, 7], size=1000, p=[0.2, 0.1, 0.1, 0.1, 0.1, 0.1, 0.1, 0.2], replace=True)\n",
    "\n",
    "WP"
   ]
  },
  {
   "cell_type": "code",
   "execution_count": 19,
   "metadata": {},
   "outputs": [
    {
     "name": "stdout",
     "output_type": "stream",
     "text": [
      "Number of unique values in the WP array:\n",
      "[['Christopher' 'eeyore' 'kanga' 'lumpy' 'piglet' 'pooh' 'rabbit' 'roo']\n",
      " ['23' '7' '10' '10' '8' '18' '8' '16']]\n"
     ]
    }
   ],
   "source": [
    "# Number of unique values in the WP array\n",
    "unique_elements, counts_elements = np.unique(WP, return_counts=True)\n",
    "print(\"Number of unique values in the WP array:\")\n",
    "print(np.asarray((unique_elements, counts_elements)))"
   ]
  },
  {
   "cell_type": "code",
   "execution_count": 40,
   "metadata": {},
   "outputs": [
    {
     "data": {
      "image/png": "[encoded data removed]",
      "text/plain": [
       "<Figure size 432x288 with 1 Axes>"
      ]
     },
     "metadata": {},
     "output_type": "display_data"
    }
   ],
   "source": [
    "# Create list - 8 names\n",
    "# No seed set, so random numbers -> number_names = [23, 7, 10, 10, 8, 18, 8, 16]\n",
    "number_names = [23, 7, 10, 10, 8, 18, 8, 16]\n",
    "\n",
    "# Order of operations\n",
    "barchart_names = ('pooh', 'rabbit', 'piglet', 'roo', 'lumpy', 'kanga', 'eeyore', 'Christopher')\n",
    "\n",
    "# Create bar names\n",
    "y_pos = np.arange(len(barchart_names))\n",
    "plt.bar(y_pos, number_names)\n",
    "\n",
    "# Create names on the x-axis (rotated vertical)\n",
    "plt.xticks(y_pos, barchart_names, rotation = 'vertical')\n",
    "plt.xlabel('Names', fontweight='normal', color = 'black')\n",
    "\n",
    "# Create names on the y-axis\n",
    "plt.ylabel(\"Total\")\n",
    "plt.title(\"Winnie the Pooh characters\")\n",
    "plt.show()"
   ]
  },
  {
   "cell_type": "markdown",
   "metadata": {},
   "source": [
    "#### numpy.random.bytes\n",
    "\n",
    "- numpy.random.bytes(length)\n",
    "- Return random bytes.\n",
    "    - Parameters:\t\n",
    "        - length : int\n",
    "            - Number of random bytes.\n",
    "\n",
    "    - Returns:\t\n",
    "        - out : str\n",
    "            - String of length length."
   ]
  },
  {
   "cell_type": "code",
   "execution_count": 21,
   "metadata": {},
   "outputs": [
    {
     "data": {
      "text/plain": [
       "b'E\\xb8\\xb1\\x15\\xfc\\xd4B6\\xdf\\x87\\xf8\\x0c\\xfd\\xf5\\xc56\\xa3\\xb0;\\xee\\xfe\\xec\\xc0\\xb8\\xf6\\xc5\\xdfF'"
      ]
     },
     "execution_count": 21,
     "metadata": {},
     "output_type": "execute_result"
    }
   ],
   "source": [
    "# Example random.bytes\n",
    "np.random.bytes(28)"
   ]
  },
  {
   "cell_type": "markdown",
   "metadata": {},
   "source": [
    "### B. Below are some code examples Permutations Functions."
   ]
  },
  {
   "cell_type": "code",
   "execution_count": 22,
   "metadata": {},
   "outputs": [
    {
     "name": "stdout",
     "output_type": "stream",
     "text": [
      "Original list :  [3, 12, 16, 17, 28, 35, 42, 44, 49, 56, 63, 70, 80, 85, 90, 100]\n"
     ]
    }
   ],
   "source": [
    "# Example Permutations Functions (shuffle) - numpy.random.shuffle(x)\n",
    "# Modifies a sequence in-place by shuffling its contents. \n",
    "\n",
    "# This function only shuffles the array along the first axis of a multi-dimensional array. \n",
    "# The order of sub-arrays is changed but their contents remains the same.\n",
    "\n",
    "number_list = [3, 12, 16, 17, 28, 35, 42, 44, 49, 56, 63, 70, 80, 85, 90, 100]\n",
    "print (\"Original list : \",  number_list)"
   ]
  },
  {
   "cell_type": "code",
   "execution_count": 23,
   "metadata": {},
   "outputs": [
    {
     "name": "stdout",
     "output_type": "stream",
     "text": [
      "List after first shuffle  :  [42, 90, 3, 80, 12, 16, 35, 49, 63, 70, 44, 28, 56, 100, 17, 85]\n"
     ]
    }
   ],
   "source": [
    "np.random.shuffle(number_list)\n",
    "print (\"List after first shuffle  : \",  number_list)"
   ]
  },
  {
   "cell_type": "code",
   "execution_count": 24,
   "metadata": {},
   "outputs": [
    {
     "name": "stdout",
     "output_type": "stream",
     "text": [
      "List after second shuffle :  [44, 35, 80, 49, 100, 42, 17, 56, 63, 90, 12, 16, 28, 85, 70, 3]\n"
     ]
    }
   ],
   "source": [
    "np.random.shuffle(number_list)\n",
    "print (\"List after second shuffle : \",  number_list)"
   ]
  },
  {
   "cell_type": "markdown",
   "metadata": {},
   "source": [
    "## 3. Use and purpose of at least five “Distributions” functions.\n",
    "\n",
    "A probability distribution is a function under probability theory and statistics - one that gives us how probable different outcomes are in an experiment. It describes events in terms of their probabilities; this is out of all possible outcomes. [30]\n",
    "\n",
    "\n",
    "The majority of popular statistical models including the most common kinds, say linear regression make an assumption of normally distributed error terms. In another example of insurance industry, if we want to see the distribution of number of claims that come for each policy then ideally it will look like Poisson distribution, as we are concerned about the count of claim, which is discrete in nature.\n",
    "\n",
    "\n",
    "> Although, the list of distributions are huge, I'll cover the ones which we use more commonly in the industry:\n",
    "\n",
    "    * [A] Normal Distribution \n",
    "    \n",
    "    * [B] Standard Normal Distribution\n",
    "    \n",
    "    * [C] Binomial Distribution \n",
    "    \n",
    "    * [D] Uniform Distribution \n",
    "    \n",
    "    * [E] Poisson Distribution \n",
    "    \n",
    "    * [F] Gamma Distribution "
   ]
  },
  {
   "cell_type": "markdown",
   "metadata": {},
   "source": [
    "### A. Normal Distribution \n",
    "\n",
    "* numpy.random.normal(loc=0.0, scale=1.0, size=None)\n",
    "\n",
    "The most commonly seen and therefore well-known distribution of continuous values is the bell curve. It is known as the “normal” distribution, because it is the distribution that a lot of data falls into. It is also known as the Gaussian distribution, more formally, named after Carl Friedrich Gauss. [26] \n",
    "\n",
    "The np.random.normal() has three parameters : loc (mean), scale (SD) and size (no.of obs to be generated). The number of samples in this returned list will be equal to the value of the size argument.\n",
    "\n",
    "Furthermore, each time you run this function, the results will be slightly different each time, due to the randomness (but can be addressed by using a seed - see task 4), but will follow the same distribution and general shape. To ensure that the result is more accurate, it is good to choose a large size value, which usually is around 10000. [28]\n",
    "\n",
    "With a normal distribution plot, the plot will be centered on the mean value.\n",
    "In a normal distribution, 68% of the data set will lie within ±1 standard deviation of the mean. 95% of the data set will lie within ±2 standard deviations of the mean. And 99.7% of the data set will lie within ±3 standard deviations of the mean. \n",
    "\n",
    "\n",
    "![normal_distribution](normal_distribution.png)\n",
    "\n",
    "\n",
    "Standard Normal Distribution is a specific case of normal distribution where μ = 0 and σ = 1 (i.e mean is 0 and standard deviation is 1).\n",
    "\n",
    "\n",
    "- Some examples of observations that have a Gaussian distribution include [29]:\n",
    "\n",
    "    - People’s heights.\n",
    "    - IQ scores.\n",
    "    - Body temperature.\n",
    "    \n",
    "Not all data is Gaussian, and it is sometimes important to make this discovery either by reviewing histogram plots of the data or using statistical tests to check. \n",
    "\n",
    "- Some examples of observations that do not fit a Gaussian distribution include:\n",
    "\n",
    "    - People’s incomes.\n",
    "    - Population of cities.\n",
    "    - Sales of books.    "
   ]
  },
  {
   "cell_type": "markdown",
   "metadata": {},
   "source": [
    "##### In below code example I'm showing a normal distribution plot created with the numpy and matplotlib modules.\n",
    "\n",
    "Inside of this function, we specify the mean, standard deviation value, and the total number of random values we want created. [30]\n",
    "\n",
    "So in the code example below, we create a normal distribution with a mean centered at 90, with a standard deviation of 2, and 10000 (ten thousand) random data points created. [31]\n",
    "\n",
    "So we use the numpy module to create the data and then we use the matplotlib module to plot the data. \n",
    "\n",
    "We create a variable, values, and assign it to, np.random.normal(90,2,10000). What this line does is it creates the data for a normal distribution plot centered around a mean of 90, showing 2 standard deviations of the data, and creates 10,000 random data points that are of normal distribution. \n",
    "\n",
    "Remember this is the normal() function, which means that the data will be normalized. 68% of the data values generated will be (or very close to) ±1 standard deviations of the mean. 95% of the data values generated will be within ±2 standard deviations of the mean. 99.7% of the data values generated will be within ±3 standard deviations of the mean.\n",
    "\n",
    "We then plot a histogram with 100 bins with the line, plt.hist(values,100).\n",
    "\n",
    "You see that this plot has a mean centered around 90 and shows the data and 3 standard deviations.\n",
    "There are 10,000 random data points generated. "
   ]
  },
  {
   "cell_type": "code",
   "execution_count": 25,
   "metadata": {},
   "outputs": [
    {
     "data": {
      "image/png": "[encoded data removed]",
      "text/plain": [
       "<Figure size 432x288 with 1 Axes>"
      ]
     },
     "metadata": {
      "needs_background": "light"
     },
     "output_type": "display_data"
    }
   ],
   "source": [
    "# Normal Distribution plot\n",
    "\n",
    "values= np.random.normal(90, 2, 10000)\n",
    "plt.hist(values,100)\n",
    "plt.show()"
   ]
  },
  {
   "cell_type": "markdown",
   "metadata": {},
   "source": [
    "### B. Standard Normal Distribution \n",
    "\n",
    "* numpy.random.standard_normal(size=None)\n",
    "\n",
    "It draws samples from a Standard Normal distribution.\n",
    "\n",
    "Parameters:\t\n",
    "\n",
    "size : int or tuple of ints, optional\n",
    "\n",
    "    Output shape. If the given shape is, e.g., (m, n, k), then m * n * k samples are drawn. \n",
    "    Default is None, in which case a single value is returned.\n",
    "\n",
    "As I said already, this is a specific case of normal distribution where μ = 0 and σ = 1 (i.e mean is 0 and standard deviation is 1).\n",
    "\n",
    "I'm using the term variance to mathematically describe variation. Some folks say standard deviation. Variance simply equals the square of standard deviation. Since the variance = 1 for the standard distribution, in this case of the standard distribution, variance == standard deviation. [45]\n",
    "\n",
    "\n",
    "##### What is the difference between normal, and standard distribution - randn function?\n",
    "\n",
    "Both concern the Gaussian distribution.\n",
    "\n",
    "- Normal: Draw random samples from a normal (Gaussian) distribution:\n",
    "\n",
    "    - In this case, you're generating a GENERIC normal distribution.\n",
    "    - Normal takes more parameters for more control.\n",
    "\n",
    "- The randn function: Return a random matrix with data from the “standard normal” distribution:\n",
    "\n",
    "    - You're generating a SPECIFIC normal distribution, the standard distribution.\n",
    "    - A standard normal distribution is just a normal distribution where the average value is 0, and the variance (the mathematical term for the variation) is 1.\n",
    "\n",
    "\n",
    "So:\n",
    "\n",
    "> numpy.random.normal(size= (10, 10))\n",
    "\n",
    "... is the exact same thing as writing:\n",
    "\n",
    "> numpy.random.randn(10, 10)\n",
    "\n",
    "... because the default values (loc= 0, scale= 1) for numpy.random.normal are in fact the standard distribution.  \n",
    "\n",
    "\n",
    "##### The next below script example shows a Standard Normal Distribution plot instead."
   ]
  },
  {
   "cell_type": "code",
   "execution_count": 26,
   "metadata": {},
   "outputs": [
    {
     "data": {
      "image/png": "[encoded data removed]",
      "text/plain": [
       "<Figure size 432x288 with 1 Axes>"
      ]
     },
     "metadata": {
      "needs_background": "light"
     },
     "output_type": "display_data"
    }
   ],
   "source": [
    "# Standard Normal Distribution\n",
    "# μ = 0 and σ = 1 (i.e mean is 0 and standard deviation is 1)\n",
    "\n",
    "values= np.random.normal(0, 1, 10000)\n",
    "plt.hist(values,100)\n",
    "plt.show()"
   ]
  },
  {
   "cell_type": "markdown",
   "metadata": {},
   "source": [
    "As you can see the mean is zero and the tip of a bell curve would be at zero. [46]\n",
    "\n",
    "\n",
    "##### Some of the properties of a standard normal distribution are mentioned below:\n",
    "\n",
    "* The normal curve is symmetric about the mean and bell shaped.\n",
    "* Mean, mode and median is zero which is the centre of the curve.\n",
    "* Approximately 68% of the data will be between -1 and +1 (i.e. within 1 standard deviation from the mean), 95% between -2 and +2 (within 2 SD from the mean) and 99.7% between -3 and 3 (within 3 SD from the mean)."
   ]
  },
  {
   "cell_type": "markdown",
   "metadata": {},
   "source": [
    "### C. Binomial Distribution\n",
    "\n",
    "* numpy.random.binomial(n, p, size=None)\n",
    "\n",
    "The binomial distribution is the probability distribution of a sequence of experiments where each experiment produces a binary outcome and where each of the outcomes is independent of all the others [32]\n",
    "\n",
    "The samples are drawn with specified parameters, n trials and p probability of success where n an integer >= 0 and p is in the interval [0,1]. (n may be input as a float, but it is truncated to an integer in use)\n",
    "\n",
    "Parameters:\t\n",
    "\n",
    "n : int or array_like of ints\n",
    "\n",
    "    Parameter of the distribution, >= 0. \n",
    "    Floats are also accepted, but they will be truncated to integers.\n",
    "\n",
    "p : float or array_like of floats\n",
    "\n",
    "    Parameter of the distribution, >= 0 and <=1.\n",
    "\n",
    "size : int or tuple of ints, optional\n",
    "\n",
    "    Output shape. If the given shape is, e.g., (m, n, k), then m * n * k samples are drawn. \n",
    "    If size is None (default), a single value is returned if n and p are both scalars. \n",
    "    Otherwise, np.broadcast(n, p).size samples are drawn.\n",
    "\n",
    "A single coin flip is an example of an experiment with a binary outcome. Coin flips meet the other binomial distribution requirement as well — the outcome of each individual coin flip is independent of all the others. Just to be clear, the outcomes of the experiment don’t need to be equally likely as they are with flips of a fair coin — the following things also meet the prerequisites of the binomial distribution:\n",
    "\n",
    "* An unfair coin (e.g. one with an 80% probability of coming up heads).\n",
    "* Randomly picking people on the street to answer a yes or no question.\n",
    "* Attempting to convince visitors of a website to buy a product — the yes or no outcome is whether they purchased or not.\n",
    "\n",
    "Or another example, if a drug’s effect of curing a cancer is being tested on a patient, the result might be a success or a failure. The same experiment when conducted on 1000 cancer patients where n (trials) is large and we are interested to see exactly 5 successful cases, then the distribution becomes a binomial distribution.\n",
    "\n",
    "\n",
    "![binomial_distribution](binomial_distribution.png)"
   ]
  },
  {
   "cell_type": "markdown",
   "metadata": {},
   "source": [
    "##### Binomial example plot\n",
    "\n",
    "The below code shows a binomial example plot. [33]\n",
    "\n",
    "* np.random.binomial()\n",
    "\n",
    "The function returns a list of samples from a binomial distribution based on the inputted parameters when calling np.random.binomial(n, p, size).\n",
    "\n",
    "In the below example, the result of tests is consistent with our probability of 50% success. Each value can be calculated as \"out of n\"."
   ]
  },
  {
   "cell_type": "code",
   "execution_count": 27,
   "metadata": {},
   "outputs": [
    {
     "name": "stdout",
     "output_type": "stream",
     "text": [
      "[236 251 248 ... 242 250 255]\n"
     ]
    }
   ],
   "source": [
    "# n = 500 (samples or trials)\n",
    "# p = 0.5 (probability of success)\n",
    "# size = 10000 (number of experiments)\n",
    "\n",
    "tests = np.random.binomial(500, 0.5, size=10000)\n",
    "\n",
    "print(tests)\n",
    "# The result is 10000 randomly selected experiments from the distribution\n",
    "# [241, 262, ..., 248, 255, 235]"
   ]
  },
  {
   "cell_type": "code",
   "execution_count": 28,
   "metadata": {},
   "outputs": [
    {
     "data": {
      "image/png": "[encoded data removed]",
      "text/plain": [
       "<Figure size 432x288 with 1 Axes>"
      ]
     },
     "metadata": {
      "needs_background": "light"
     },
     "output_type": "display_data"
    }
   ],
   "source": [
    "# n = 500 (samples or trials)\n",
    "# p = 0.5 (probability of success)\n",
    "# size = 10000 (number of experiments)\n",
    "\n",
    "tests = np.random.binomial(500, 0.5, size=10000)\n",
    "\n",
    "# The result is 10000 randomly selected experiments from the distribution\n",
    "# [241, 262, ..., 248, 255, 235]\n",
    "plt.hist(tests,100)\n",
    "plt.show()"
   ]
  },
  {
   "cell_type": "markdown",
   "metadata": {},
   "source": [
    "### D. Uniform Distribution\n",
    "\n",
    "* numpy.random.uniform(low=0.0, high=1.0, size=None)\n",
    "\n",
    "Samples are uniformly distributed over the half-open interval [low, high)\n",
    "\n",
    "(includes low, but excludes high). \n",
    "\n",
    "This distribution (often called 'rectangular') is one in which all values between two boundaries occur roughly equally. For example, if you roll a six-sided die, you're equally likely to get 1, 2, 3, 4, 5, or 6. If you rolled it 6,000 times, you'd probably get roughly 1,000 of each result. The results would form a uniform distribution from 1 to 6. [36]\n",
    "\n",
    "Another example of something that's uniformly distributed is the digits of pi. Each digit makes up about 10% of the values. \n",
    "\n",
    "Formula for Uniform probability distribution is f(x) = 1/(b-a), where range of distribution is [a, b].\n",
    "\n",
    "\n",
    "##### What is the relationship between numpy.random.rand() and numpy.random.uniform()? [44]\n",
    "\n",
    "* numpy.random.rand(): Numpy creates an array of a given shape with random samples from a uniform distribution in a range from 0 to 1. If no argument is given, then a single float is returned.\n",
    "    \n",
    "* numpy.random.uniform(): Similar to .rand(), Numpy draws samples from uniform distribution. However, this time we can specify lower and upper boundaries for sample generation, while including the lower boundary and generating samples up to upper boundary."
   ]
  },
  {
   "cell_type": "markdown",
   "metadata": {},
   "source": [
    "##### In below I'm showing an example Uniform Distribution vs Normal Distribution. \n",
    "\n",
    "\n",
    "<div class=\"alert alert-block alert-info\">\n",
    "<b>Note:</b> Where Normal Distribution is a probability distribution where probability of x is highest at centre and lowest in the ends ... Uniform Distribution is a probability distribution where probability of x is constant i.e. all points in range are equally likely to occur that is why it looks like a rectangle. [35]\n",
    "</div>\n",
    "\n",
    "\n",
    "Below I have plotted 25 normal random numbers and 25 uniform random numbers, and then plotted them against each other to show the difference."
   ]
  },
  {
   "cell_type": "code",
   "execution_count": 29,
   "metadata": {},
   "outputs": [
    {
     "data": {
      "text/plain": [
       "array([-0.5566783 , -0.3196305 ,  1.14652303, -0.94452744,  2.4668364 ,\n",
       "       -1.04051056,  2.0941883 ,  3.26193406,  2.8237297 ,  2.00754991,\n",
       "        0.6748827 , -1.43368982,  0.8990653 , -3.09605804, -0.1195458 ,\n",
       "       -3.09673061, -1.95703569,  3.3352151 , -3.66494955,  0.06780818,\n",
       "       -2.14614273,  3.0088848 , -2.69305188,  0.66226343,  0.41166597])"
      ]
     },
     "execution_count": 29,
     "metadata": {},
     "output_type": "execute_result"
    }
   ],
   "source": [
    "np.random.uniform(low=-4,high=4,size=25)"
   ]
  },
  {
   "cell_type": "code",
   "execution_count": 30,
   "metadata": {},
   "outputs": [
    {
     "data": {
      "text/plain": [
       "array([-0.17474838,  0.88460608, -0.49682118, -0.2242846 , -0.48652474,\n",
       "        0.30051351,  1.54719799, -0.12622736,  0.92185852,  0.05389321,\n",
       "        0.99967161, -0.03494759,  0.84524361, -1.04116219, -0.28764627,\n",
       "        0.86007302, -0.83598801,  0.76888434,  0.67609473, -0.79275036,\n",
       "        0.21720452, -0.10905766, -0.97573947, -0.89916235, -0.09068612])"
      ]
     },
     "execution_count": 30,
     "metadata": {},
     "output_type": "execute_result"
    }
   ],
   "source": [
    "np.random.randn(25)"
   ]
  },
  {
   "cell_type": "code",
   "execution_count": 31,
   "metadata": {},
   "outputs": [
    {
     "data": {
      "image/png": "[encoded data removed]",
      "text/plain": [
       "<Figure size 432x288 with 1 Axes>"
      ]
     },
     "metadata": {},
     "output_type": "display_data"
    }
   ],
   "source": [
    "# 25 normal random numbers <-> 25 uniform random numbers. \n",
    "\n",
    "sns.set()\n",
    "# import warnings\n",
    "warnings.simplefilter(\"ignore\", UserWarning)\n",
    "\n",
    "# Create an array of random numbers from uniform distribution\n",
    "uniform = np.random.uniform(-4,4,25)\n",
    "\n",
    "# Create an array of random numbers from normal distribution\n",
    "normal = np.random.randn(25)\n",
    "\n",
    "# Plotting them - using seaborn\n",
    "ax = sns.distplot(uniform, label='Uniform Distribution')\n",
    "bx = sns.distplot(normal, label= 'Normal Distribution')\n",
    "legend = plt.legend()\n",
    "\n",
    "plt.show()"
   ]
  },
  {
   "cell_type": "markdown",
   "metadata": {},
   "source": [
    "### E. Poisson Distribution\n",
    "\n",
    "* numpy.random.poisson(lam=1.0, size=None)\n",
    "\n",
    "It draws samples from a Poisson distribution. The distribution is a discrete probability distribution which models number of times an event occurs in fixed time interval. \n",
    "\n",
    "Parameters:\t\n",
    "\n",
    "lam : float or array_like of floats\n",
    "\n",
    "    Expectation of interval, should be >= 0. \n",
    "    A sequence of expectation intervals must be broadcastable over the requested size.\n",
    "\n",
    "size : int or tuple of ints, optional\n",
    "\n",
    "    Output shape. If the given shape is, e.g., (m, n, k), then m * n * k samples are drawn. \n",
    "    If size is None (default), a single value is returned if lam is a scalar. \n",
    "    Otherwise, np.array(lam).size samples are drawn.\n",
    "\n",
    "This function can predict or show the mathematical probability of a value occurring of a certain data point. [50]\n",
    "\n",
    "Being that it is a probability mass function, it shows discrete data points. If we look at this probability mass function plot, we can see what the probability is of a certain value occurring anywhere along the x-axis. \n",
    "\n",
    "For example, the number of users visited on a website in an interval can be thought of a Poisson process. Poisson distribution is described in terms of the rate (μ) at which the events happen. An event can occur 0, 1, 2, … times in an interval. The average number of events in an interval is designated λ (lambda). Lambda is the event rate, also called the rate parameter. [37] \n",
    "\n",
    "Another example use case is an online tutoring service that typically gets 4 students in the period between 9 pm and 9:30 pm and wants to calculate the probability of getting 6 students in that period. [36]\n",
    "\n",
    "\n",
    "The Poisson distribution may also be useful to model events such as [51]:\n",
    "\n",
    "    The number of meteorites greater than 1 meter diameter that strike Earth in a year.\n",
    "    The number of patients arriving in an emergency room between 10 and 11 pm.\n",
    "    The number of photons hitting a detector in a particular time interval.\n",
    "\n",
    "\n",
    "![poisson_distribution](poisson_distribution.png)\n",
    "\n",
    "\n",
    "<div class=\"alert alert-block alert-info\">\n",
    "<b>Note:</b> If a binomial approximated distribution occurs where number of trials (n) becomes sufficiently large and probability of success (p) successively becomes small such that np becomes \\lambda (constant), the distribution becomes poisson.\n",
    "</div>"
   ]
  },
  {
   "cell_type": "code",
   "execution_count": 32,
   "metadata": {},
   "outputs": [
    {
     "data": {
      "image/png": "[encoded data removed]",
      "text/plain": [
       "<Figure size 432x288 with 1 Axes>"
      ]
     },
     "metadata": {},
     "output_type": "display_data"
    }
   ],
   "source": [
    "# Import libraries\n",
    "\n",
    "s = np.random.poisson(5, 10000)\n",
    "count, bins, ignored = plt.hist(s, 14, normed=True)\n",
    "plt.show()"
   ]
  },
  {
   "cell_type": "markdown",
   "metadata": {},
   "source": [
    "In above, s - np.random.poisson(5, 10000) ... what it's doing its generating numbers from 0, 1, 2, 3, 4, all the way up to infinity randomly. But, on average its going to be 5.\n",
    "\n",
    "What this function is saying it's generating us numbers, positive integers where the first argument we give it here, the 5, that is the average number of events. The average number of events occurring each time we call this poisson function is going to be 5, but sometimes it’s going to be 0, sometimes 1, sometimes 2, sometimes 3, sometimes 4, etc, all the way up to infinity. But by far most likely its 5. The numbers 4 and 6 are then likely after that, little bit less likely then is 3, or 7, etc, it’s not quite symmetric.\n",
    "\n",
    "The second parameter is just asking for 10000 different numbers (as opposed to one). [49]"
   ]
  },
  {
   "cell_type": "code",
   "execution_count": 33,
   "metadata": {},
   "outputs": [
    {
     "data": {
      "image/png": "[encoded data removed]",
      "text/plain": [
       "<Figure size 432x288 with 1 Axes>"
      ]
     },
     "metadata": {},
     "output_type": "display_data"
    }
   ],
   "source": [
    "# Below we have some code that creates a poisson probability mass function using numpy, scipy, and matplotlib. \n",
    "\n",
    "x= np.arange(100,200,0.5)\n",
    "plt.plot(x, poisson.pmf(x,150))\n",
    "\n",
    "plt.show()"
   ]
  },
  {
   "cell_type": "markdown",
   "metadata": {},
   "source": [
    "Another more simple example is in the above, we use the numpy module to create the x-axis data, we use scipy to create a poisson probability mass function, and then we use the matplotlib module to plot the data.\n",
    "\n",
    "We create a variable, x, and assign it to, plt.plot(x, poisson.pmf(x,150))\n",
    "\n",
    "What this line does is it creates an x-axis of values that range from 100 to 200 with increments of 0.5.\n",
    "\n",
    "We then plot a poisson probability mass function with the line, plt.plot(x, poisson.pmf(x,150))\n",
    "\n",
    "This creates a poisson probability mass function with a mean of 150.\n",
    "\n",
    "We then show this graph plot with the line, plt.show() \n",
    "\n",
    "You can see, from the graph, that the probability of 150 being the value is high, while the probability of an outlier such as 100 or 200 occurring is low. "
   ]
  },
  {
   "cell_type": "markdown",
   "metadata": {},
   "source": [
    "### F. Gamma Distribution\n",
    "\n",
    "* numpy.random.gamma(shape, scale=1.0, size=None)\n",
    "\n",
    "It draws samples from a Gamma distribution. [40]\n",
    "\n",
    "Samples are drawn from a Gamma distribution with specified parameters, shape (sometimes designated “k”) and scale (sometimes designated “theta”), where both parameters are > 0.\n",
    "\n",
    "Parameters:\n",
    "\n",
    "    shape : scalar > 0 The shape of the gamma distribution.\n",
    "    scale : scalar > 0, optional The scale of the gamma distribution. Default is equal to 1.\n",
    "    size : shape_tuple, optional Output shape. If the given shape is, e.g., (m, n, k), \n",
    "    then m * n * k samples are drawn.\n",
    "\n",
    "Gamma distribution is a right skewed distribution used for continuous variables. This is due to its flexibility in the choice of the shape and scale parameters. The scale parameter determines where the bulk of the observations lies and the shape parameter determines how the distribution will look.\n",
    "\n",
    "The Gamma distribution is often used to model the times to failure of electronic components, and arises naturally in processes for which the waiting times between Poisson distributed events are relevant.\n",
    "\n",
    "The gamma distribution has also been used to model the size of insurance claims and rainfalls. This means that aggregate insurance claims and the amount of rainfall accumulated in a reservoir are modelled by a gamma process – much like the exponential distribution generates a Poisson process. [47]\n",
    "\n",
    "In wireless communication, the gamma distribution is used to model the multi-path fading of signal power; see also Rayleigh distribution and Rician distribution.\n",
    "\n",
    "In oncology, the age distribution of cancer incidence often follows the gamma distribution, whereas the shape and scale parameters predict, respectively, the number of driver events and the time interval between them.\n",
    "\n",
    "In neuroscience, the gamma distribution is often used to describe the distribution of inter-spike intervals.\n",
    "\n",
    "In bacterial gene expression, the copy number of a constitutively expressed protein often follows the gamma distribution, where the scale and shape parameter are, respectively, the mean number of bursts per cell cycle and the mean number of protein molecules produced by a single mRNA during its lifetime.\n",
    "\n",
    "In genomics, the gamma distribution was applied in peak calling step (i.e. in recognition of signal) in ChIP-chip and ChIP-seq data analysis.\n",
    "\n",
    "The gamma distribution is widely used as a conjugate prior in Bayesian statistics. It is the conjugate prior for the precision (i.e. inverse of the variance) of a normal distribution. It is also the conjugate prior for the exponential distribution. \n",
    "\n",
    "\n",
    "![gamma_distribution](gamma_distribution.png)"
   ]
  },
  {
   "cell_type": "code",
   "execution_count": 34,
   "metadata": {},
   "outputs": [
    {
     "data": {
      "image/png": "[encoded data removed]",
      "text/plain": [
       "<Figure size 432x288 with 1 Axes>"
      ]
     },
     "metadata": {},
     "output_type": "display_data"
    }
   ],
   "source": [
    "# Draw samples from the distribution\n",
    "\n",
    "# mean=4, std=2*sqrt(2)\n",
    "shape, scale = 2, 2\n",
    "s = np.random.gamma(shape, scale, 1000)\n",
    "\n",
    "# Display the histogram of the samples, along with the probability density function\n",
    "\n",
    "count, bins, ignored = plt.hist(s, 50, density=True)\n",
    "y = bins**(shape-1)*(np.exp(-bins/scale) /\n",
    "                     (sps.gamma(shape)*scale**shape))\n",
    "plt.plot(bins, y, linewidth=2, color='r')\n",
    "plt.show()"
   ]
  },
  {
   "cell_type": "markdown",
   "metadata": {},
   "source": [
    "##### Another example Gamma distribution - Commute Times for 5,000 commuters\n",
    "\n",
    "Generate data on commute times, for 5000 commuters. [59]\n",
    "\n",
    "The scale parameter determines where the bulk of the observations lies (in below example 5) and the shape parameter determines how the distribution will look.\n",
    "\n",
    "* Shape parameter: It affect the general shape of the distribution. \n",
    "\n",
    "* Scale parameter: It simply stretch or squeeze the distribution. The greater the scale parameter value, greater the stretching will be."
   ]
  },
  {
   "cell_type": "code",
   "execution_count": 35,
   "metadata": {},
   "outputs": [
    {
     "data": {
      "image/png": "[encoded data removed]",
      "text/plain": [
       "<Figure size 432x288 with 1 Axes>"
      ]
     },
     "metadata": {},
     "output_type": "display_data"
    }
   ],
   "source": [
    "# Generate data on commute times.\n",
    "size, scale = 5000, 5\n",
    "commutes = pd.Series(np.random.gamma(scale, size=size) ** 1.5)\n",
    "\n",
    "commutes.plot.hist(grid=True, bins=20, rwidth=0.9,\n",
    "                   color='#607c8e')\n",
    "plt.title('Commute Times for 5,000 Commuters')\n",
    "plt.xlabel('Counts')\n",
    "plt.ylabel('Commute Time')\n",
    "plt.grid(axis='y', alpha=0.75)"
   ]
  },
  {
   "cell_type": "markdown",
   "metadata": {},
   "source": [
    "## 4. Why the use of seeds in generating pseudorandom numbers?\n",
    "\n",
    "\n",
    "<div class=\"alert alert-block alert-info\">\n",
    "<b>Note:</b> NumPy random seed is simply a function that sets the random seed of the NumPy pseudo-random number generator. It provides an essential input that enables NumPy to generate pseudo-random numbers for random processes.\n",
    "</div>\n",
    "\n",
    "\n",
    "See below eloborate article:\n",
    "\n",
    "https://www.sharpsightlabs.com/blog/numpy-random-seed/ [15]\n",
    "\n",
    "In order to understand “seeding a random number generator” you need to know a little bit about pseudo-random numbers.\n",
    "\n",
    "\n",
    "#### What is a pseudo-random number?\n",
    "\n",
    "A pseudo-random number is a number. A number that’s sort-of random. Pseudo-random.\n",
    "So essentially, a pseudo-random number is a number that’s almost random, but not really random.\n",
    "\n",
    "A separate article at random.org notes that pseudo-random numbers “appear random, but they are really predetermined”:\n",
    "\n",
    "https://www.random.org/randomness/\n",
    "\n",
    "So Pseudo-random numbers are computer generated numbers that appear random, but are actually predetermined.\n",
    "\n",
    "\n",
    "#### A problem though … computers are deterministic, not random!\n",
    "\n",
    "There’s a fundamental problem when using computers to simulate or work with random processes. Computers are completely deterministic, not random. Another way of saying this is that if you give a computer a certain input, it will precisely follow instructions to produce an output. \n",
    "\n",
    "\n",
    "![Image of Computer](Computer.png)\n",
    "\n",
    "\n",
    "… And if you later give a computer the same input, it will produce the same output.\n",
    "\n",
    "If the input is the same, then the output will be the same. THAT’S HOW COMPUTERS WORK.\n",
    "\n",
    "The behavior of computers is deterministic …\n",
    "\n",
    "Essentially, the behavior of computers is NOT random.\n",
    "\n",
    "This introduces a problem: how can you use a non-random machine to produce random numbers?\n",
    "\n",
    "\n",
    "#### Pseudo-random numbers are generated by algorithms\n",
    "\n",
    "Computers solve the problem of generating “random” numbers the same way that they solve essentially everything: with an algorithm.\n",
    "\n",
    "Computer scientists have created a set of algorithms for creating psuedo random numbers, called “pseudo-random number generators.”\n",
    "\n",
    "These algorithms can be executed on a computer.\n",
    "\n",
    "As such, they are completely deterministic. However, the numbers that they produce have properties that approximate the properties of random numbers.\n",
    "\n",
    "\n",
    "#### The pseudo-random numbers appear to be random\n",
    "\n",
    "That is to say, the numbers generated by pseudo-random number generators appear to be random.\n",
    "\n",
    "Even though the numbers they are completely determined by the algorithm, when you examine them, there is typically no visisble pattern. \n",
    "\n",
    "These numbers are not random, and are in fact completely determined by the algorithm. If you run the same code again, you can see you get the exact same numbers.\n",
    "\n",
    "\n",
    "#### Pseudo-random numbers can be re-created exactly\n",
    "\n",
    "Importantly, because pseudo-random number generators are deterministic, they are also repeatable.\n",
    "\n",
    "What I mean is that if you run the algorithm with the same input, it will produce the same output.\n",
    "\n",
    "So you can use pseudo-random number generators to create and then re-create the exact same set of pseudo-random numbers.\n",
    "\n",
    "So pseudo random number generators produce numbers that look random, but are 100% determined. \n",
    "Determined how though?\n",
    "\n",
    "Remember what we wrote earlier: computers and algorithms process inputs into outputs. The outputs of computers depend on the inputs. So just like any output produced by a computer, pseudo-random numbers are dependent on the input.\n",
    "\n",
    "THIS is where numpy.random.seed comes in … \n",
    "\n",
    "The numpy.random.seed function provides the input (i.e., the seed) to the algorithm that generates pseudo-random numbers in NumPy.\n",
    "\n",
    "\n",
    "#### The numpy.random.seed provides an input to the pseudo-random number generator\n",
    "\n",
    "The “random” numbers generated by NumPy are not exactly random. They are pseudo-random … they approximate random numbers, but are 100% determined by the input and the pseudo-random number algorithm.\n",
    "\n",
    "The np.random.seed function provides an input for the pseudo-random number generator in Python. That’s all the function does!\n",
    "\n",
    "It allows you to provide a “seed” value to NumPy’s random number generator.\n",
    "\n",
    "Essentially, if you execute a NumPy function with the same seed, you’ll get the same result.\n",
    "\n",
    "\n",
    "#### We use numpy.random.seed in conjunction with other numpy functions\n",
    "\n",
    "Importantly, numpy.random.seed doesn’t exactly work all on its own.\n",
    "\n",
    "The numpy.random.seed function works in conjunction with other functions from NumPy.\n",
    "\n",
    "Specifically, numpy.random.seed works with other function from the numpy.random namespace.\n",
    "\n",
    "So for example, you might use numpy.random.seed along with numpy.random.randint. This will enable you to create random integers with NumPy.\n",
    "\n",
    "You can also use numpy.random.seed with numpy.random.normal to create normally distributed numbers.\n",
    "\n",
    "… or you can use it with numpy.random.choice to generate a random sample from an input.\n",
    "\n",
    "In fact, there are several dozen NumPy random functions that enable you to generate random numbers, random samples, and samples from specific probability distributions.\n",
    "\n",
    "\n",
    "#### The syntax of NumPy random seed\n",
    "\n",
    "The syntax of NumPy random seed is extremely simple. There’s essentially only one parameter, and that is the seed value.\n",
    "\n",
    "\n",
    "![Random_Seed Function](Random_Seed.png)\n",
    "\n",
    "\n",
    "Syntax - random.seed(a=None, version=2) [16]\n",
    "\n",
    "* So the seed method is used to initialize the pseudorandom number generator in Python.\n",
    "* The random module uses the seed value as a base to generate a random number. If seed value is not present, it takes a system current time.\n",
    "\n",
    "\n",
    "##### Summary\n",
    "\n",
    "In a nutshell, we use np.random.seed when we need to generate random numbers or mimic random processes in NumPy.\n",
    "\n",
    "Computers are generally deterministic, so it’s very difficult to create truly “random” numbers on a computer. Computers get around this by using pseudo-random number generators.\n",
    "\n",
    "These pseudo-random number generators are algorithms that produce numbers that appear random, but are not really random.\n",
    "\n",
    "In order to work properly, pseudo-random number generators require a starting input. We call this starting input a “seed.”\n",
    "\n",
    "The code np.random.seed(0) enables you to provide a seed (i.e., the starting input) for NumPy’s pseudo-random number generator.\n",
    "\n",
    "NumPy then uses the seed and the pseudo-random number generator in conjunction with other functions from the numpy.random namespace to produce certain types of random outputs.\n",
    "\n",
    "Ultimately, creating pseudo-random numbers this way leads to repeatable output, which is good for testing and code sharing. [21]\n",
    "\n",
    "Let me show you through some examples, some where random seed is set, others without.\n",
    "\n",
    " \n",
    "##### Examples below, with the seed reset (every time), the same set of numbers will appear every time.\n",
    "\n",
    "* See the examples 1 and 2 below. I created some pseudo-random numbers with the NumPy rand function, and provided seed.\n",
    "\n",
    "* And compare it with the examples 3 and 4, running the rand function again, but no seed provided this time. The results differ now."
   ]
  },
  {
   "cell_type": "code",
   "execution_count": 36,
   "metadata": {},
   "outputs": [
    {
     "data": {
      "text/plain": [
       "array([0.5488135 , 0.71518937, 0.60276338, 0.54488318])"
      ]
     },
     "execution_count": 36,
     "metadata": {},
     "output_type": "execute_result"
    }
   ],
   "source": [
    "# First example, created some pseudo-random numbers with the NumPy rand function, provided seed\n",
    "np.random.seed(0) ; np.random.rand(4)"
   ]
  },
  {
   "cell_type": "markdown",
   "metadata": {},
   "source": [
    "The numbers in example 1 are not random, and are in fact completely determined by the algorithm. \n",
    "If you run the same code again, you’ll get the exact same numbers. "
   ]
  },
  {
   "cell_type": "code",
   "execution_count": 37,
   "metadata": {},
   "outputs": [
    {
     "data": {
      "text/plain": [
       "array([0.5488135 , 0.71518937, 0.60276338, 0.54488318])"
      ]
     },
     "execution_count": 37,
     "metadata": {},
     "output_type": "execute_result"
    }
   ],
   "source": [
    "# Second example, again created some pseudo-random numbers with the rand function, provided seed again\n",
    "np.random.seed(0) ; np.random.rand(4)"
   ]
  },
  {
   "cell_type": "markdown",
   "metadata": {},
   "source": [
    "If the random seed is not reset, different numbers appear with every invocation."
   ]
  },
  {
   "cell_type": "code",
   "execution_count": 38,
   "metadata": {},
   "outputs": [
    {
     "data": {
      "text/plain": [
       "array([0.4236548 , 0.64589411, 0.43758721, 0.891773  ])"
      ]
     },
     "execution_count": 38,
     "metadata": {},
     "output_type": "execute_result"
    }
   ],
   "source": [
    "# Third example of running the rand function, no seed provided this time\n",
    "np.random.rand(4)"
   ]
  },
  {
   "cell_type": "code",
   "execution_count": 39,
   "metadata": {},
   "outputs": [
    {
     "data": {
      "text/plain": [
       "array([0.96366276, 0.38344152, 0.79172504, 0.52889492])"
      ]
     },
     "execution_count": 39,
     "metadata": {},
     "output_type": "execute_result"
    }
   ],
   "source": [
    "# Fourth example of running the rand function, again no seed provided\n",
    "np.random.rand(4)"
   ]
  },
  {
   "cell_type": "markdown",
   "metadata": {},
   "source": [
    "Final note on this. So the (pseudo-)random numbers work by starting with a number (the seed), multiplying it by a large number, then taking modulo of that product. The resulting number is then used as the seed to generate the next \"random\" number. When you set the seed (every time), it does the same thing every time, giving you the same numbers.\n",
    "\n",
    "If you want seemingly random numbers, do not set the seed. If you have code that uses random numbers that you want to debug, however, it can be very helpful to set the seed before each run so that the code does the same thing every time you run it.\n",
    "\n",
    "To get the most random numbers for each run, call numpy.random.seed(). This will cause numpy to set the seed to a random number obtained from /dev/urandom or its Windows analog or, if neither of those is available, it will use the clock."
   ]
  },
  {
   "cell_type": "markdown",
   "metadata": {},
   "source": [
    "I hope the research in this notebook file and the code examples I used, give you a bit of a glimpse into numpy.random package, and the purpose of it."
   ]
  },
  {
   "cell_type": "markdown",
   "metadata": {},
   "source": [
    "## References\n",
    "\n",
    "[1] Software Freedom Conservancy. Git.\n",
    "\n",
    "<https://git-scm.com/.>\n",
    "\n",
    "[2] NumPy developers. Numpy.\n",
    "\n",
    "<http://www.numpy.org/.>\n",
    "\n",
    "[3] Inc. GitHub. Github.\n",
    "\n",
    "<https://github.com/.>\n",
    "\n",
    "[4] GMIT. Quality assurance framework.\n",
    "\n",
    "<https://www.gmit.ie/general/quality-assurance-framework.>\n",
    "\n",
    "[5] Project Jupyter. Project jupyter home.\n",
    "\n",
    "<http://jupyter.org/.>\n",
    "\n",
    "[6] Practical NumPy — Understanding Python library through its functions.\n",
    "\n",
    "<https://towardsdatascience.com/practical-numpy-understanding-python-library-through-its-functions-adf2e3841894>\n",
    "\n",
    "[7] NumPy arrays\n",
    "\n",
    "https://subscription.packtpub.com/book/big_data_and_business_intelligence/9781785285110/2/ch02lvl1sec12/numpy-arrays\n",
    "\n",
    "[8] Anaconda\n",
    "\n",
    "<https://docs.anaconda.com/anaconda/>\n",
    "\n",
    "[9] Python\n",
    "\n",
    "<https://www.python.org/downloads/>\n",
    "\n",
    "[10] Cmder software\n",
    "\n",
    "<https://cmder.net/>\n",
    "\n",
    "[11] Numpy\n",
    "\n",
    "<https://docs.scipy.org/doc/numpy/user/whatisnumpy.html>\n",
    "\n",
    "[12] Python for Data Analysis - Data Wrangling with Pandas, NumPy, and IPython\n",
    "\n",
    "<http://shop.oreilly.com/product/0636920023784.do>\n",
    "\n",
    "[13] <https://stackoverflow.com/questions/7029993/differences-between-numpy-random-and-random-random-in-python>\n",
    "\n",
    "[14] <https://sites.engineering.ucsb.edu/~shell/che210d/numpy.pdf>\n",
    "\n",
    "[15] <https://www.sharpsightlabs.com/blog/numpy-random-seed/>\n",
    "\n",
    "[16] <https://pynative.com/python-random-module/>\n",
    "\n",
    "[17] How to embed image or picture in jupyter notebook, either from a local machine or from a web resource?\n",
    "\n",
    "<https://stackoverflow.com/questions/32370281/how-to-embed-image-or-picture-in-jupyter-notebook-either-from-a-local-machine-o>\n",
    "\n",
    "[18] <https://stackoverflow.com/questions/19389910/in-python-numpy-what-is-a-dimension-and-axis>\n",
    "\n",
    "[19] <https://machinelearningmastery.com/how-to-generate-random-numbers-in-python/>\n",
    "\n",
    "[20] <https://blog.quantinsti.com/python-numpy-tutorial-installation-arrays-random-sampling/#Random%20Sampling%20in%20NumPy>\n",
    "\n",
    "[21] <https://stackoverflow.com/questions/21494489/what-does-numpy-random-seed0-do>\n",
    "\n",
    "[22] <https://numpy.org/devdocs/reference/random/index.html>\n",
    "\n",
    "[23] <https://numpy.org/doc/1.17/reference/random/index.html>\n",
    "\n",
    "[24] <https://docs.scipy.org/doc/numpy/reference/random/index.html>\n",
    "\n",
    "[25] <https://pynative.com/python-random-shuffle/>\n",
    "\n",
    "[26] <https://appliedmachinelearning.blog/2018/08/31/lets-talk-about-numeric-distributions-python/>\n",
    "\n",
    "[27] <<http://queirozf.com/entries/numpy-distributions-and-statistical-functions-examples-reference#sample-from-normal-distributio>\n",
    "\n",
    "[28] <https://discuss.codecademy.com/t/what-does-the-np-random-normal-function-return/359431>\n",
    "\n",
    "[29] <https://machinelearningmastery.com/a-gentle-introduction-to-calculating-normal-summary-statistics/>\n",
    "\n",
    "[30] <https://data-flair.training/blogs/python-probability-distributions/>\n",
    "\n",
    "[31] How to Create a Normal Distribution Plot in Python with the Numpy and Matplotlib Modules\n",
    "\n",
    "<http://www.learningaboutelectronics.com/Articles/How-to-create-a-normal-distribution-plot-in-Python-with-numpy-and-matplotlib.php>\n",
    "\n",
    "[32] <https://towardsdatascience.com/fun-with-the-binomial-distribution-96a5ecabf65b>\n",
    "\n",
    "[33] <https://discuss.codecademy.com/t/what-does-the-np-random-binomial-function-return/361162>\n",
    "\n",
    "[34] <https://stackoverflow.com/questions/22744577/plotting-basic-uniform-distribution-on-python>\n",
    "\n",
    "[35] <https://thatascience.com/learn-numpy/normal-vs-uniform/>\n",
    "\n",
    "[36] <https://www.somesolvedproblems.com/2019/04/real-life-examples-of-various.html>\n",
    "\n",
    "[37] <https://www.datacamp.com/community/tutorials/probability-distributions-python>\n",
    "\n",
    "[38] <https://docs.w3cub.com/numpy~1.14/generated/numpy.random.poisson/>\n",
    "\n",
    "[39] https://docs.scipy.org/doc/numpy-1.14.0/reference/generated/numpy.random.poisson.html\n",
    "\n",
    "[40] <https://numpy.org/devdocs/reference/random/generated/numpy.random.Generator.standard_gamma.html>\n",
    "\n",
    "[41] https://honingds.com/blog/python-random/\n",
    "\n",
    "[42] NumPy random numbers\n",
    "\n",
    "https://subscription.packtpub.com/book/big_data_and_business_intelligence/9781785285110/2/ch02lvl1sec16/numpy-random-numbers\n",
    "\n",
    "[43] https://stackoverflow.com/questions/15474159/shuffle-vs-permute-numpy\n",
    "\n",
    "[44] http://codewithmax.com/2018/03/17/plotting-error-bars-in-python-using-matplotlib-and-numpy-random/\n",
    "\n",
    "[45] https://stackoverflow.com/questions/21738383/python-difference-between-randn-and-normal\n",
    "\n",
    "[46] https://medium.com/@balamurali_m/normal-distribution-with-python-793c7b425ef0\n",
    "\n",
    "[47] https://en.wikipedia.org/wiki/Gamma_distribution#Applications\n",
    "\n",
    "[48] https://www.ibm.com/support/knowledgecenter/en/SSGNPV_1.1.3/dsx/markd-jupyter.html\n",
    "\n",
    "[49] Ian McLoughlin - lecture notes\n",
    "\n",
    "[50] http://www.learningaboutelectronics.com/Articles/How-to-create-a-poisson-probability-mass-function-plot-in-Python.php\n",
    "\n",
    "[51] https://en.wikipedia.org/wiki/Poisson_distribution\n",
    "\n",
    "[52] https://code.visualstudio.com/docs\n",
    "\n",
    "[53] https://www.tutorialspoint.com/python/python_lists.htm\n",
    "\n",
    "[54] https://physics.nyu.edu/pine/pymanual/html/chap3/chap3_arrays.html\n",
    "\n",
    "[55] https://pandas.pydata.org/\n",
    "\n",
    "[56] https://matplotlib.org/\n",
    "\n",
    "[57] Seaborn\n",
    "\n",
    "https://anaconda.org/anaconda/seaborn\n",
    "\n",
    "[58] https://www.scipy.org/\n",
    "\n",
    "[59] Gamma distribution\n",
    "\n",
    "https://realpython.com/python-histograms/\n",
    "\n",
    "[60] https://www.geeksforgeeks.org/numpy-random-rand-python/\n",
    "\n",
    "[61] https://pediaa.com/what-is-the-difference-between-1d-and-2d-array/\n",
    "\n",
    "[62] https://www.geeksforgeeks.org/numpy-random-randn-python/\n",
    "\n",
    "[63] https://www.geeksforgeeks.org/random-sampling-in-numpy-randint-function/\n",
    "\n",
    "[64] https://www.geeksforgeeks.org/random-sampling-in-numpy-random_integers-function/\n",
    "\n",
    "[65] numpy.random.random_integers\n",
    "\n",
    "https://docs.scipy.org/doc/numpy-1.15.0/reference/generated/numpy.random.random_integers.html#numpy.random.random_integers\n",
    "\n",
    "[66] https://www.geeksforgeeks.org/random-sampling-in-numpy-random_sample-function/\n",
    "\n",
    "[67] https://docs.scipy.org/doc/numpy-1.15.0/reference/generated/numpy.random.random.html\n",
    "\n",
    "[68] https://www.geeksforgeeks.org/random-sampling-in-numpy-ranf-function/\n",
    "\n",
    "[69] https://docs.scipy.org/doc/numpy-1.15.0/reference/generated/numpy.random.sample.html#numpy.random.sample\n",
    "\n",
    "[70] https://pynative.com/python-random-choice/\n",
    "\n",
    "[71] https://plot.ly/python/random-walk/"
   ]
  },
  {
   "cell_type": "code",
   "execution_count": null,
   "metadata": {},
   "outputs": [],
   "source": []
  }
 ],
 "metadata": {
  "kernelspec": {
   "display_name": "Python 3",
   "language": "python",
   "name": "python3"
  },
  "language_info": {
   "codemirror_mode": {
    "name": "ipython",
    "version": 3
   },
   "file_extension": ".py",
   "mimetype": "text/x-python",
   "name": "python",
   "nbconvert_exporter": "python",
   "pygments_lexer": "ipython3",
   "version": "3.7.5"
  }
 },
 "nbformat": 4,
 "nbformat_minor": 2
}
